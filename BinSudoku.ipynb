{
  "nbformat": 4,
  "nbformat_minor": 0,
  "metadata": {
    "colab": {
      "name": "ConvertBase.ipynb",
      "provenance": [],
      "collapsed_sections": [],
      "authorship_tag": "ABX9TyNXzpU9zzPYkfonOlU9dDmZ",
      "include_colab_link": true
    },
    "kernelspec": {
      "name": "python3",
      "display_name": "Python 3"
    }
  },
  "cells": [
    {
      "cell_type": "markdown",
      "metadata": {
        "id": "view-in-github",
        "colab_type": "text"
      },
      "source": [
        "<a href=\"https://colab.research.google.com/github/hawe-de/hawe-storage/blob/master/BinSudoku.ipynb\" target=\"_parent\"><img src=\"https://colab.research.google.com/assets/colab-badge.svg\" alt=\"Open In Colab\"/></a>"
      ]
    },
    {
      "cell_type": "markdown",
      "metadata": {
        "id": "gKIc7td-LBbO",
        "colab_type": "text"
      },
      "source": [
        "Konvertieren von Dezimal nach b-adisch"
      ]
    },
    {
      "cell_type": "code",
      "metadata": {
        "id": "2JXnF_x7myqg",
        "colab_type": "code",
        "colab": {}
      },
      "source": [
        "def cDezTo(b,a):\n",
        "    c=[]\n",
        "    while a>=1:\n",
        "        c.append(a%b)\n",
        "        a=a//b\n",
        "    return list(reversed(c))"
      ],
      "execution_count": null,
      "outputs": []
    },
    {
      "cell_type": "markdown",
      "metadata": {
        "id": "fINwx2HVLPQN",
        "colab_type": "text"
      },
      "source": [
        "Konvertieren von b-adisch nach Dezimal"
      ]
    },
    {
      "cell_type": "code",
      "metadata": {
        "id": "---48HZfnDnD",
        "colab_type": "code",
        "colab": {}
      },
      "source": [
        "def cBaseToDez(b,o):\n",
        "\ta=0\n",
        "\tfor i in o: a=(a+i)*b\n",
        "\treturn a//b"
      ],
      "execution_count": null,
      "outputs": []
    },
    {
      "cell_type": "code",
      "metadata": {
        "id": "G-6I3fc2w4TE",
        "colab_type": "code",
        "colab": {
          "base_uri": "https://localhost:8080/",
          "height": 35
        },
        "outputId": "d5bb4ffe-0ec4-4b78-89df-3c7a55046e9b"
      },
      "source": [
        "a=cDezTo(2,25)\n",
        "a"
      ],
      "execution_count": null,
      "outputs": [
        {
          "output_type": "execute_result",
          "data": {
            "text/plain": [
              "[1, 1, 0, 0, 1]"
            ]
          },
          "metadata": {
            "tags": []
          },
          "execution_count": 3
        }
      ]
    },
    {
      "cell_type": "code",
      "metadata": {
        "id": "8JvooQtQw8XI",
        "colab_type": "code",
        "colab": {
          "base_uri": "https://localhost:8080/",
          "height": 35
        },
        "outputId": "4c0e2284-e426-4408-cb40-0cffb2320b50"
      },
      "source": [
        "b=cBaseToDez(2,a)\n",
        "b"
      ],
      "execution_count": null,
      "outputs": [
        {
          "output_type": "execute_result",
          "data": {
            "text/plain": [
              "25"
            ]
          },
          "metadata": {
            "tags": []
          },
          "execution_count": 4
        }
      ]
    },
    {
      "cell_type": "code",
      "metadata": {
        "id": "8L0mh8hHxWGw",
        "colab_type": "code",
        "colab": {
          "base_uri": "https://localhost:8080/",
          "height": 35
        },
        "outputId": "aa4c2f27-185c-4c4e-83aa-0eca5686f970"
      },
      "source": [
        "base=2\n",
        "a=cDezTo(base,17009)\n",
        "b=cBaseToDez(base,a)\n",
        "[a,b]"
      ],
      "execution_count": null,
      "outputs": [
        {
          "output_type": "execute_result",
          "data": {
            "text/plain": [
              "[[1, 0, 0, 0, 0, 1, 0, 0, 1, 1, 1, 0, 0, 0, 1], 17009]"
            ]
          },
          "metadata": {
            "tags": []
          },
          "execution_count": 5
        }
      ]
    },
    {
      "cell_type": "code",
      "metadata": {
        "id": "6d1OHtv-xlHo",
        "colab_type": "code",
        "colab": {
          "base_uri": "https://localhost:8080/",
          "height": 35
        },
        "outputId": "bb2c98d7-3a54-45f2-8325-23d94f32eed9"
      },
      "source": [
        "c=(lambda x : ((x+j)*base) for j in a) \n",
        "(c)"
      ],
      "execution_count": null,
      "outputs": [
        {
          "output_type": "execute_result",
          "data": {
            "text/plain": [
              "<generator object <genexpr> at 0x7f7daea84d58>"
            ]
          },
          "metadata": {
            "tags": []
          },
          "execution_count": 6
        }
      ]
    },
    {
      "cell_type": "code",
      "metadata": {
        "id": "n9OxD5JjMiG7",
        "colab_type": "code",
        "colab": {}
      },
      "source": [
        "def cDezTo(b,a):\n",
        "    c=[]\n",
        "    while a>=1:\n",
        "        c.append(a%b)\n",
        "        a=a//b\n",
        "    return list(reversed(c))\n",
        "n=12\n",
        "kandidate=[]\n",
        "for j in range(2**n):\n",
        "  k=cDezTo(2,j)\n",
        "  if sum(k)==n//2: \n",
        "    while len(k)<n:k=[0]+k\n",
        "    if sum([k[i]+k[i+1]+k[i+2]>0 and k[i]+k[i+1]+k[i+2]<3 for i in range(n-2)])==n-2:\n",
        "        kandidate.append(k)\n"
      ],
      "execution_count": null,
      "outputs": []
    },
    {
      "cell_type": "code",
      "metadata": {
        "id": "Wcj6KN7N4Gp9",
        "colab_type": "code",
        "colab": {}
      },
      "source": [
        "[cBaseToDez(2,x) for x in kandidate]"
      ],
      "execution_count": null,
      "outputs": []
    },
    {
      "cell_type": "code",
      "metadata": {
        "id": "-QHeAIKUMxCa",
        "colab_type": "code",
        "colab": {
          "base_uri": "https://localhost:8080/",
          "height": 35
        },
        "outputId": "4a645cf6-8372-4d2a-fcaa-2514b9881dc6"
      },
      "source": [
        "r=[]\n",
        "for j in range(len(kandidate)):\n",
        "  t=([(kandidate[j][i]==brett[6][i])*1 for i in range(n)])\n",
        "if sum(t)==brett[6].count(0)+brett[6].count(1) : r.append(t)\n",
        "r"
      ],
      "execution_count": null,
      "outputs": [
        {
          "output_type": "execute_result",
          "data": {
            "text/plain": [
              "[]"
            ]
          },
          "metadata": {
            "tags": []
          },
          "execution_count": 9
        }
      ]
    },
    {
      "cell_type": "code",
      "metadata": {
        "id": "bBNzFQPFzrDI",
        "colab_type": "code",
        "colab": {
          "base_uri": "https://localhost:8080/",
          "height": 237
        },
        "outputId": "8ec5b007-9149-4258-88e3-a46ad809fb6c"
      },
      "source": [
        "n=12; x=9\n",
        "brett=[[x,x,x,x,x,x,x,x,x,x,0,x],\n",
        "       [x,0,0,x,x,x,0,x,x,x,x,x],\n",
        "       [x,x,x,0,x,x,x,1,x,1,x,x],\n",
        "       [x,x,x,x,x,x,x,x,0,x,x,1],\n",
        "       [x,x,x,x,x,0,x,x,x,0,x,x],\n",
        "       [0,x,x,x,1,x,1,x,x,x,x,x],\n",
        "       [0,x,0,x,1,x,x,x,0,x,0,x],\n",
        "       [x,x,x,0,x,x,x,x,x,x,0,x],\n",
        "       [x,x,x,x,x,x,x,x,x,x,x,1],\n",
        "       [x,x,0,x,x,1,x,x,x,x,0,x],\n",
        "       [x,x,x,x,x,1,x,x,x,x,x,x],\n",
        "       [x,x,x,1,1,x,x,1,x,1,x,x]]\n",
        "for j in range(n): print(brett[j])"
      ],
      "execution_count": null,
      "outputs": [
        {
          "output_type": "stream",
          "text": [
            "[9, 9, 9, 9, 9, 9, 9, 9, 9, 9, 0, 9]\n",
            "[9, 0, 0, 9, 9, 9, 0, 9, 9, 9, 9, 9]\n",
            "[9, 9, 9, 0, 9, 9, 9, 1, 9, 1, 9, 9]\n",
            "[9, 9, 9, 9, 9, 9, 9, 9, 0, 9, 9, 1]\n",
            "[9, 9, 9, 9, 9, 0, 9, 9, 9, 0, 9, 9]\n",
            "[0, 9, 9, 9, 1, 9, 1, 9, 9, 9, 9, 9]\n",
            "[0, 9, 0, 9, 1, 9, 9, 9, 0, 9, 0, 9]\n",
            "[9, 9, 9, 0, 9, 9, 9, 9, 9, 9, 0, 9]\n",
            "[9, 9, 9, 9, 9, 9, 9, 9, 9, 9, 9, 1]\n",
            "[9, 9, 0, 9, 9, 1, 9, 9, 9, 9, 0, 9]\n",
            "[9, 9, 9, 9, 9, 1, 9, 9, 9, 9, 9, 9]\n",
            "[9, 9, 9, 1, 1, 9, 9, 1, 9, 1, 9, 9]\n"
          ],
          "name": "stdout"
        }
      ]
    },
    {
      "cell_type": "code",
      "metadata": {
        "id": "nffRfdYyYAYz",
        "colab_type": "code",
        "colab": {
          "base_uri": "https://localhost:8080/",
          "height": 237
        },
        "outputId": "f1143095-fb6c-4a12-bcef-bb4593235bb7"
      },
      "source": [
        "col=[]\n",
        "for j in range(n):\n",
        "  if brett[j][n-1] != 9 and brett[j][n-1]==brett[j][n-2]:brett[j][n-3]=abs(brett[j][n-1]-1)\n",
        "  for i in range(n):\n",
        "    col.append(brett[i][j])\n",
        "    if brett[j][i] != 9:\n",
        "      if i+2<n:\n",
        "         if brett[j][i]==brett[j][i+1]: \n",
        "           brett[j][i+2]=abs(brett[j][i]-1)\n",
        "           if i>0: brett[j][i-1]=abs(brett[j][i]-1)\n",
        "         if brett[j][i]==brett[j][i+2]:\n",
        "            brett[j][i+1]=abs(brett[j][i]-1)\n",
        "      if j+2<n: \n",
        "         if brett[j][i]==brett[j+1][i]: \n",
        "           brett[j+2][i]=abs(brett[j][i]-1)\n",
        "           if j>0: brett[j-1][i]=abs(brett[j][i]-1)\n",
        "         if brett[j][i]==brett[j+2][i]:\n",
        "            brett[j+1][i]=abs(brett[j][i]-1)\n",
        "    if brett[j].count(0)+brett[j].count(1)==n-1:\n",
        "       brett[j][brett[j].index(9)] = 1-(brett[j].count(1)==(n//2))\n",
        "    if brett[j].count(0)==n//2 and brett[j].count(1)==n//2-2:\n",
        "       brett[j][brett[j].index(9)] = 1\n",
        "       brett[j][brett[j].index(9)] = 1\n",
        "    if brett[j].count(1)==n//2 and brett[j].count(0)==n//2-2:\n",
        "       brett[j][brett[j].index(9)] = 0\n",
        "       brett[j][brett[j].index(9)] = 0\n",
        "  if col.count(0)+col.count(1)==n-1:\n",
        "     brett[col.index(9)][j] = 1-(col.count(1)==(n//2))\n",
        "  if col.count(0)==n//2 and col.count(1)==n//2-2:\n",
        "        brett[col.index(9)][j] = 1\n",
        "        brett[col.index(9)][j] = 1\n",
        "  if col.count(1)==n//2 and col.count(0)==n//2-2:\n",
        "        brett[col.index(9)][j] = 0\n",
        "        brett[col.index(9)][j] = 0\n",
        "  col=[]\n",
        "brett"
      ],
      "execution_count": null,
      "outputs": [
        {
          "output_type": "execute_result",
          "data": {
            "text/plain": [
              "[[9, 9, 9, 9, 9, 0, 9, 9, 9, 9, 0, 9],\n",
              " [1, 0, 0, 1, 0, 1, 0, 0, 1, 0, 1, 1],\n",
              " [9, 9, 9, 0, 1, 0, 1, 1, 0, 1, 1, 0],\n",
              " [9, 9, 9, 0, 9, 1, 0, 1, 0, 1, 0, 1],\n",
              " [1, 0, 1, 1, 0, 0, 1, 0, 1, 0, 0, 1],\n",
              " [0, 1, 0, 1, 1, 0, 1, 9, 9, 0, 1, 0],\n",
              " [0, 1, 0, 0, 1, 1, 0, 1, 0, 1, 0, 1],\n",
              " [1, 0, 1, 0, 0, 1, 9, 9, 9, 1, 0, 0],\n",
              " [9, 0, 1, 1, 0, 0, 1, 9, 9, 0, 1, 1],\n",
              " [9, 1, 0, 0, 1, 1, 0, 9, 9, 9, 0, 9],\n",
              " [9, 9, 1, 9, 0, 1, 9, 9, 9, 9, 1, 9],\n",
              " [9, 9, 0, 1, 1, 0, 9, 1, 0, 1, 1, 0]]"
            ]
          },
          "metadata": {
            "tags": []
          },
          "execution_count": 15
        }
      ]
    },
    {
      "cell_type": "code",
      "metadata": {
        "id": "-ejFQyxYuZqk",
        "colab_type": "code",
        "colab": {
          "base_uri": "https://localhost:8080/",
          "height": 237
        },
        "outputId": "b78eb03e-df5f-4b8d-b728-3a03beb47124"
      },
      "source": [
        " brett"
      ],
      "execution_count": null,
      "outputs": [
        {
          "output_type": "execute_result",
          "data": {
            "text/plain": [
              "[[9, 9, 9, 9, 9, 9, 9, 9, 9, 9, 0, 9],\n",
              " [9, 0, 0, 9, 9, 9, 0, 9, 9, 9, 9, 9],\n",
              " [9, 9, 9, 0, 9, 9, 9, 1, 9, 1, 9, 9],\n",
              " [9, 9, 9, 9, 9, 9, 9, 9, 0, 9, 9, 1],\n",
              " [9, 9, 9, 9, 9, 0, 9, 9, 9, 0, 9, 9],\n",
              " [0, 9, 9, 9, 1, 9, 1, 9, 9, 9, 9, 9],\n",
              " [0, 9, 0, 9, 1, 9, 9, 9, 0, 9, 0, 9],\n",
              " [9, 9, 9, 0, 9, 9, 9, 9, 9, 9, 0, 9],\n",
              " [9, 9, 9, 9, 9, 9, 9, 9, 9, 9, 9, 1],\n",
              " [9, 9, 0, 9, 9, 1, 9, 9, 9, 9, 0, 9],\n",
              " [9, 9, 9, 9, 9, 1, 9, 9, 9, 9, 9, 9],\n",
              " [9, 9, 9, 1, 1, 9, 9, 1, 9, 1, 9, 9]]"
            ]
          },
          "metadata": {
            "tags": []
          },
          "execution_count": 69
        }
      ]
    },
    {
      "cell_type": "code",
      "metadata": {
        "id": "rrO4y6877hWe",
        "colab_type": "code",
        "colab": {}
      },
      "source": [
        "[]"
      ],
      "execution_count": null,
      "outputs": []
    }
  ]
}